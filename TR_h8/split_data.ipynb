{
 "cells": [
  {
   "cell_type": "code",
   "execution_count": 1,
   "id": "d5537f0d-7da5-42ac-bc80-d93980a72d7d",
   "metadata": {},
   "outputs": [
    {
     "name": "stderr",
     "output_type": "stream",
     "text": [
      "IOPub data rate exceeded.\n",
      "The Jupyter server will temporarily stop sending output\n",
      "to the client in order to avoid crashing it.\n",
      "To change this limit, set the config variable\n",
      "`--ServerApp.iopub_data_rate_limit`.\n",
      "\n",
      "Current values:\n",
      "ServerApp.iopub_data_rate_limit=1000000.0 (bytes/sec)\n",
      "ServerApp.rate_limit_window=3.0 (secs)\n",
      "\n"
     ]
    }
   ],
   "source": [
    "de_path = \"/workspace/Transformer/dataset9/train.de\"\n",
    "en_path = \"/workspace/Transformer/dataset9/train.en\"\n",
    "\n",
    "with open(de_path, 'r', encoding = 'utf-8') as de_file, open(en_path,'r',encoding = 'utf-8') as en_file:\n",
    "    de_lines = de_file.readlines()\n",
    "    en_lines = en_file.readlines()\n",
    "\n",
    "\n",
    "\n",
    "# 분할 후 저장할 파일 경로\n",
    "de_half1_path = \"/workspace/Transformer/dataset9/train_h.de\"\n",
    "en_half1_path = \"/workspace/Transformer/dataset9/train_h.en\"\n",
    "\n",
    "\n",
    "# 데이터 수 검증\n",
    "print(de_lines)\n",
    "print(en_lines)\n",
    "\n",
    "assert len(de_lines) == len(en_lines), \"The number of lines in DE and EN files must match.\"\n",
    "\n",
    "# 절반 분할\n",
    "split_index = len(de_lines) // 100\n",
    "de_half1= de_lines[:split_index]\n",
    "en_half1= en_lines[:split_index]\n",
    "\n",
    "# 분할된 데이터 저장\n",
    "with open(de_half1_path, 'w', encoding='utf-8') as de1, open(en_half1_path, 'w', encoding='utf-8') as en1:\n",
    "    de1.writelines(de_half1)\n",
    "    en1.writelines(en_half1)\n",
    "\n",
    "\n",
    "print(\"Data successfully split into two halves.\")"
   ]
  }
 ],
 "metadata": {
  "kernelspec": {
   "display_name": "Python 3 (ipykernel)",
   "language": "python",
   "name": "python3"
  },
  "language_info": {
   "codemirror_mode": {
    "name": "ipython",
    "version": 3
   },
   "file_extension": ".py",
   "mimetype": "text/x-python",
   "name": "python",
   "nbconvert_exporter": "python",
   "pygments_lexer": "ipython3",
   "version": "3.11.10"
  }
 },
 "nbformat": 4,
 "nbformat_minor": 5
}
