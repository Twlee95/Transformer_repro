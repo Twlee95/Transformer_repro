{
 "cells": [
  {
   "cell_type": "code",
   "execution_count": null,
   "metadata": {},
   "outputs": [],
   "source": [
    "from transformers import AutoTokenizer\n",
    "\n",
    "# Hugging Face에서 사전학습된 모델에 맞는 토크나이저 로드\n",
    "tokenizer = AutoTokenizer.from_pretrained(\"Helsinki-NLP/opus-mt-en-de\")\n",
    "\n",
    "# 입력 텍스트 토크나이즈\n",
    "text = \"This is a test sentence.\"\n",
    "tokenized = tokenizer(text, return_tensors=\"pt\", padding=True, truncation=True)\n",
    "print(tokenized)"
   ]
  },
  {
   "cell_type": "code",
   "execution_count": 1,
   "metadata": {},
   "outputs": [
    {
     "name": "stdout",
     "output_type": "stream",
     "text": [
      "Collecting tokenizers\n",
      "  Downloading tokenizers-0.21.0-cp39-abi3-manylinux_2_17_x86_64.manylinux2014_x86_64.whl.metadata (6.7 kB)\n",
      "Collecting huggingface-hub<1.0,>=0.16.4 (from tokenizers)\n",
      "  Downloading huggingface_hub-0.27.1-py3-none-any.whl.metadata (13 kB)\n",
      "Requirement already satisfied: filelock in /opt/conda/lib/python3.11/site-packages (from huggingface-hub<1.0,>=0.16.4->tokenizers) (3.16.1)\n",
      "Requirement already satisfied: fsspec>=2023.5.0 in /opt/conda/lib/python3.11/site-packages (from huggingface-hub<1.0,>=0.16.4->tokenizers) (2024.10.0)\n",
      "Requirement already satisfied: packaging>=20.9 in /opt/conda/lib/python3.11/site-packages (from huggingface-hub<1.0,>=0.16.4->tokenizers) (24.1)\n",
      "Requirement already satisfied: pyyaml>=5.1 in /opt/conda/lib/python3.11/site-packages (from huggingface-hub<1.0,>=0.16.4->tokenizers) (6.0.2)\n",
      "Requirement already satisfied: requests in /opt/conda/lib/python3.11/site-packages (from huggingface-hub<1.0,>=0.16.4->tokenizers) (2.32.3)\n",
      "Requirement already satisfied: tqdm>=4.42.1 in /opt/conda/lib/python3.11/site-packages (from huggingface-hub<1.0,>=0.16.4->tokenizers) (4.66.5)\n",
      "Requirement already satisfied: typing-extensions>=3.7.4.3 in /opt/conda/lib/python3.11/site-packages (from huggingface-hub<1.0,>=0.16.4->tokenizers) (4.12.2)\n",
      "Requirement already satisfied: charset-normalizer<4,>=2 in /opt/conda/lib/python3.11/site-packages (from requests->huggingface-hub<1.0,>=0.16.4->tokenizers) (3.4.0)\n",
      "Requirement already satisfied: idna<4,>=2.5 in /opt/conda/lib/python3.11/site-packages (from requests->huggingface-hub<1.0,>=0.16.4->tokenizers) (3.10)\n",
      "Requirement already satisfied: urllib3<3,>=1.21.1 in /opt/conda/lib/python3.11/site-packages (from requests->huggingface-hub<1.0,>=0.16.4->tokenizers) (2.2.3)\n",
      "Requirement already satisfied: certifi>=2017.4.17 in /opt/conda/lib/python3.11/site-packages (from requests->huggingface-hub<1.0,>=0.16.4->tokenizers) (2024.8.30)\n",
      "Downloading tokenizers-0.21.0-cp39-abi3-manylinux_2_17_x86_64.manylinux2014_x86_64.whl (3.0 MB)\n",
      "\u001b[2K   \u001b[90m━━━━━━━━━━━━━━━━━━━━━━━━━━━━━━━━━━━━━━━━\u001b[0m \u001b[32m3.0/3.0 MB\u001b[0m \u001b[31m104.1 MB/s\u001b[0m eta \u001b[36m0:00:00\u001b[0m\n",
      "\u001b[?25hDownloading huggingface_hub-0.27.1-py3-none-any.whl (450 kB)\n",
      "Installing collected packages: huggingface-hub, tokenizers\n",
      "Successfully installed huggingface-hub-0.27.1 tokenizers-0.21.0\n",
      "\u001b[33mWARNING: Running pip as the 'root' user can result in broken permissions and conflicting behaviour with the system package manager, possibly rendering your system unusable.It is recommended to use a virtual environment instead: https://pip.pypa.io/warnings/venv. Use the --root-user-action option if you know what you are doing and want to suppress this warning.\u001b[0m\u001b[33m\n",
      "\u001b[0m"
     ]
    }
   ],
   "source": [
    "!pip install tokenizers"
   ]
  },
  {
   "cell_type": "code",
   "execution_count": 4,
   "metadata": {},
   "outputs": [
    {
     "name": "stdout",
     "output_type": "stream",
     "text": [
      "\n",
      "\n",
      "\n",
      "['H', 'ello</w>', ',</w>', 'y</w>', \"'</w>\", 'all</w>', '!</w>', 'How</w>', 'are</w>', 'you</w>', '<unk>', '?</w>']\n",
      "Hello , y ' all ! How are you ?\n"
     ]
    }
   ],
   "source": [
    "import sys, os\n",
    "#sys.path.append(\"../src\")\n",
    "#import info\n",
    "\n",
    "from tokenizers import Tokenizer, normalizers\n",
    "from tokenizers.models import BPE\n",
    "from tokenizers.normalizers import NFD, StripAccents\n",
    "from tokenizers.trainers import BpeTrainer\n",
    "from tokenizers.pre_tokenizers import Whitespace\n",
    "from tokenizers.decoders import BPEDecoder\n",
    "from tokenizers.processors import TemplateProcessing\n",
    "\n",
    "files_path = corpus_files = [\"/workspace/Transformer/dataset9/train.en\", \"/workspace/Transformer/dataset9/train.de\"]\n",
    "\n",
    "tokenizer = Tokenizer(BPE(unk_token=\"<unk>\"))\n",
    "tokenizer.normalizer = normalizers.Sequence([NFD(), StripAccents()])\n",
    "tokenizer.pre_tokenizer = Whitespace()\n",
    "\n",
    "trainer = BpeTrainer(vocab_size=37000, special_tokens=[\"<s>\", \"</s>\", \"<pad>\", \"<unk>\",\"##AT##-##AT##\"], end_of_word_suffix=\"</w>\", show_progress=True)\n",
    "tokenizer.train(files=files_path, trainer=trainer)\n",
    "\n",
    "# tokenizer.post_processor = TemplateProcessing(\n",
    "#     single=\"<s> $A </s>\",\n",
    "#     pair=\"<s> $A </s> $B:1 </s>:1\",\n",
    "#     special_tokens=[\n",
    "#         (\"<s>\", tokenizer.token_to_id(\"<s>\")),\n",
    "#         (\"</s>\", tokenizer.token_to_id(\"</s>\")),\n",
    "#     ],\n",
    "# )\n",
    "tokenizer.decoder = BPEDecoder()\n",
    "# tokenizer.enable_padding(pad_token=\"<pad>\", length=128)\n",
    "\n",
    "tokenizer.save(\"/workspace/Transformer/NEW_Tokenizer/ende_WMT14_Tokenizer.json\")\n",
    "\n",
    "output = tokenizer.encode(\"Hello, y'all! How are you 😁 ?\")\n",
    "print(output.tokens)\n",
    "print(tokenizer.decode(output.ids))"
   ]
  },
  {
   "cell_type": "code",
   "execution_count": 6,
   "metadata": {},
   "outputs": [
    {
     "name": "stdout",
     "output_type": "stream",
     "text": [
      "Training BPE Tokenizer...\n",
      "\n",
      "\n",
      "\n",
      "Tokenizer saved to ./bpe_tokenizer2/tokenizer.en.json\n"
     ]
    }
   ],
   "source": [
    "from tokenizers import Tokenizer, models, trainers, pre_tokenizers\n",
    "\n",
    "# 1. BPE 모델 생성\n",
    "tokenizer = Tokenizer(models.BPE(unk_token=\"<unk>\"))\n",
    "\n",
    "# 2. PreTokenizer 설정\n",
    "# 각 단어를 공백 기준으로 나눈 뒤 문자 단위로 분리\n",
    "tokenizer.pre_tokenizer = pre_tokenizers.ByteLevel()\n",
    "\n",
    "# 3. 학습 설정\n",
    "trainer = trainers.BpeTrainer(\n",
    "    vocab_size=37000,         # 어휘 사전 크기\n",
    "    min_frequency= 2,          # 최소 병합 빈도\n",
    "    special_tokens=[\"<s>\", \"</s>\", \"<pad>\", \"<unk>\"]  # 특수 토큰\n",
    ")\n",
    "\n",
    "# 4. 학습용 말뭉치 파일 준비\n",
    "corpus_files = [\"/home/user15/RNN/dataset5/newstest2014.en\", \"/home/user15/RNN/dataset5/newstest2014.de\"]\n",
    "\n",
    "corpus_files = [\"/workspace/Transformer/dataset6/train.en\"]\n",
    "\n",
    "\n",
    "\n",
    "# 5. 토크나이저 학습\n",
    "print(\"Training BPE Tokenizer...\")\n",
    "tokenizer.train(corpus_files, trainer)\n",
    "\n",
    "\n",
    "# 6. 학습된 토크나이저 저장 (JSON 형식)\n",
    "tokenizer.save(\"./bpe_tokenizer2/tokenizer.en.json\")\n",
    "print(\"Tokenizer saved to ./bpe_tokenizer2/tokenizer.en.json\")\n",
    "\n",
    "\n"
   ]
  },
  {
   "cell_type": "code",
   "execution_count": 1,
   "metadata": {},
   "outputs": [
    {
     "name": "stdout",
     "output_type": "stream",
     "text": [
      "Pad token index: 2\n"
     ]
    }
   ],
   "source": [
    "import json\n",
    "\n",
    "# 저장된 JSON 파일 로드\n",
    "with open(\"./bpe_tokenizer/tokenizer.json\", \"r\") as f:\n",
    "    tokenizer_data = json.load(f)\n",
    "\n",
    "# Vocab에서 <pad> 토큰 확인\n",
    "pad_index = tokenizer_data[\"model\"][\"vocab\"].get(\"<pad>\")\n",
    "print(f\"Pad token index: {pad_index}\")"
   ]
  },
  {
   "cell_type": "code",
   "execution_count": 7,
   "metadata": {},
   "outputs": [
    {
     "name": "stdout",
     "output_type": "stream",
     "text": [
      "\n",
      "Loading saved tokenizer...\n",
      "\n",
      "Testing loaded tokenizer:\n",
      "Input text: hello world\n",
      "Token IDs: [577, 13137, 1263]\n",
      "Tokens: ['Ġhe', 'llo', 'Ġworld']\n",
      "Decoded text: Ġhe llo Ġworld\n"
     ]
    }
   ],
   "source": [
    "from tokenizers import Tokenizer, models, trainers, pre_tokenizers\n",
    "\n",
    "# 9. 저장된 토크나이저 불러오기\n",
    "print(\"\\nLoading saved tokenizer...\")\n",
    "loaded_tokenizer = Tokenizer.from_file(\"./bpe_tokenizer/tokenizer.json\")\n",
    "\n",
    "# 10. 불러온 토크나이저로 테스트\n",
    "\n",
    "encoded_loaded = loaded_tokenizer.encode(text)\n",
    "\n",
    "# 11. 디코딩 테스트\n",
    "decoded = loaded_tokenizer.decode(encoded_loaded.ids)\n",
    "decoded = decoded # .replace(\"Ġ\", \" \") # .strip()\n",
    "print(\"Decoded text:\", decoded)"
   ]
  },
  {
   "cell_type": "code",
   "execution_count": null,
   "metadata": {},
   "outputs": [],
   "source": [
    "from tokenizers import ByteLevelBPETokenizer\n",
    "from tokenizers.processors import BertProcessing\n",
    "\n",
    "# 1. 학습용 말뭉치 파일 준비 (예: corpus.txt)\n",
    "# corpus.txt 파일은 한 줄에 하나의 문장 등으로 구성된 텍스트 데이터를 담고 있어야 합니다.\n",
    "# 아래는 예시 경로이며, 실제 파일 경로로 변경하세요.\n",
    "corpus_files = [\"corpus.txt\"]\n",
    "\n",
    "# 2. ByteLevel BPE 토크나이저 객체 생성\n",
    "tokenizer = ByteLevelBPETokenizer()\n",
    "\n",
    "# 3. 토크나이저 학습 수행\n",
    "# vocab_size: 어휘 사전 크기 지정\n",
    "# min_frequency: 단어 병합 최소 빈도\n",
    "# special_tokens: 모델에 필요한 특수 토큰 지정\n",
    "tokenizer.train(files=corpus_files, vocab_size=32000, min_frequency=2, special_tokens=[\n",
    "    \"<s>\",\n",
    "    \"</s>\",\n",
    "    \"<pad>\",\n",
    "    \"<unk>\"\n",
    "])\n",
    "\n",
    "# 4. 학습된 토크나이저를 저장\n",
    "tokenizer.save_model(\"./bpe_tokenizer\")\n",
    "\n",
    "# 5. 저장된 토크나이저 로드 (추후 재사용을 위해)\n",
    "from tokenizers import ByteLevelBPETokenizer\n",
    "\n",
    "tokenizer = ByteLevelBPETokenizer(\n",
    "    \"./bpe_tokenizer/vocab.json\",\n",
    "    \"./bpe_tokenizer/merges.txt\",\n",
    ")\n",
    "\n",
    "# 6. 특수 토큰 처리 (옵션)\n",
    "#   BERT와 호환되는 형식으로 인풋을 만들기 위해 Processors 설정 (여기서는 <s>, </s> 사용)\n",
    "tokenizer._tokenizer.post_processor = BertProcessing(\n",
    "    (\"</s>\", tokenizer.token_to_id(\"</s>\")),\n",
    "    (\"<s>\", tokenizer.token_to_id(\"<s>\"))\n",
    ")\n",
    "tokenizer.enable_truncation(max_length=128)\n",
    "\n",
    "# 7. 토큰화 예제\n",
    "text = \"이 문장은 번역 모델 테스트를 위한 예제 문장입니다.\"\n",
    "\n",
    "# 토큰화\n",
    "encoded = tokenizer.encode(text)\n",
    "print(\"토큰 ID:\", encoded.ids)\n",
    "print(\"토큰 리스트:\", encoded.tokens)\n",
    "\n",
    "# 8. 디코딩 (복원)\n",
    "decoded = tokenizer.decode(encoded.ids)\n",
    "print(\"복원된 문장:\", decoded)"
   ]
  }
 ],
 "metadata": {
  "kernelspec": {
   "display_name": "Python 3 (ipykernel)",
   "language": "python",
   "name": "python3"
  },
  "language_info": {
   "codemirror_mode": {
    "name": "ipython",
    "version": 3
   },
   "file_extension": ".py",
   "mimetype": "text/x-python",
   "name": "python",
   "nbconvert_exporter": "python",
   "pygments_lexer": "ipython3",
   "version": "3.11.10"
  }
 },
 "nbformat": 4,
 "nbformat_minor": 4
}
