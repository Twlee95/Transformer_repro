{
 "cells": [
  {
   "cell_type": "code",
   "execution_count": 1,
   "id": "d5537f0d-7da5-42ac-bc80-d93980a72d7d",
   "metadata": {},
   "outputs": [
    {
     "name": "stderr",
     "output_type": "stream",
     "text": [
      "IOPub data rate exceeded.\n",
      "The Jupyter server will temporarily stop sending output\n",
      "to the client in order to avoid crashing it.\n",
      "To change this limit, set the config variable\n",
      "`--ServerApp.iopub_data_rate_limit`.\n",
      "\n",
      "Current values:\n",
      "ServerApp.iopub_data_rate_limit=1000000.0 (bytes/sec)\n",
      "ServerApp.rate_limit_window=3.0 (secs)\n",
      "\n"
     ]
    }
   ],
   "source": [
    "de_path = \"/workspace/Transformer/dataset9/train.de\"\n",
    "en_path = \"/workspace/Transformer/dataset9/train.en\"\n",
    "\n",
    "with open(de_path, 'r', encoding = 'utf-8') as de_file, open(en_path,'r',encoding = 'utf-8') as en_file:\n",
    "    de_lines = de_file.readlines()\n",
    "    en_lines = en_file.readlines()\n",
    "\n",
    "\n",
    "\n",
    "# 분할 후 저장할 파일 경로\n",
    "de_half1_path = \"/workspace/Transformer/dataset9/train_h.de\"\n",
    "en_half1_path = \"/workspace/Transformer/dataset9/train_h.en\"\n",
    "\n",
    "\n",
    "# 데이터 수 검증\n",
    "print(de_lines)\n",
    "print(en_lines)\n",
    "\n",
    "assert len(de_lines) == len(en_lines), \"The number of lines in DE and EN files must match.\"\n",
    "\n",
    "# 절반 분할\n",
    "split_index = len(de_lines) // 100\n",
    "de_half1= de_lines[:split_index]\n",
    "en_half1= en_lines[:split_index]\n",
    "\n",
    "# 분할된 데이터 저장\n",
    "with open(de_half1_path, 'w', encoding='utf-8') as de1, open(en_half1_path, 'w', encoding='utf-8') as en1:\n",
    "    de1.writelines(de_half1)\n",
    "    en1.writelines(en_half1)\n",
    "\n",
    "\n",
    "print(\"Data successfully split into two halves.\")"
   ]
  },
  {
   "cell_type": "code",
   "execution_count": 14,
   "id": "835c7d99-693f-40a2-9949-093ab6aacaaa",
   "metadata": {},
   "outputs": [
    {
     "name": "stdout",
     "output_type": "stream",
     "text": [
      "Total DE lines: 4521186\n",
      "Empty DE lines: 3157\n",
      "Total EN lines: 4521327\n",
      "Empty EN lines: 8697\n"
     ]
    }
   ],
   "source": [
    "with open(de_path, 'r', encoding='utf-8') as de1, open(en_path, 'r', encoding='utf-8') as en1:\n",
    "    de_lines = de1.readlines()\n",
    "    en_lines = en1.readlines()\n",
    "\n",
    "# 빈 줄 개수 확인\n",
    "empty_de_lines = len([line for line in de_lines if not line.strip()])\n",
    "empty_en_lines = len([line for line in en_lines if not line.strip()])\n",
    "\n",
    "print(f\"Total DE lines: {len(de_lines)}\")\n",
    "print(f\"Empty DE lines: {empty_de_lines}\")\n",
    "print(f\"Total EN lines: {len(en_lines)}\")\n",
    "print(f\"Empty EN lines: {empty_en_lines}\")"
   ]
  },
  {
   "cell_type": "code",
   "execution_count": 16,
   "id": "fd754a2b-db5f-4a54-9cb0-cda24301ac56",
   "metadata": {},
   "outputs": [
    {
     "name": "stdout",
     "output_type": "stream",
     "text": [
      "Cleaned DE lines: 4509333\n",
      "Cleaned EN lines: 4509333\n"
     ]
    }
   ],
   "source": [
    "de_path = \"/workspace/Transformer/dataset9/train.de\"\n",
    "en_path = \"/workspace/Transformer/dataset9/train.en\"\n",
    "\n",
    "de_clean_path = \"/workspace/Transformer/dataset9/train_new.de\"\n",
    "en_clean_path = \"/workspace/Transformer/dataset9/train_new.en\"\n",
    "\n",
    "# 빈 줄이 있는 경우 해당 라인을 제거\n",
    "with open(de_path, 'r', encoding='utf-8') as de_file, open(en_path, 'r', encoding='utf-8') as en_file:\n",
    "    de_lines = de_file.readlines()\n",
    "    en_lines = en_file.readlines()\n",
    "\n",
    "# 병렬 데이터 정리\n",
    "de_cleaned = []\n",
    "en_cleaned = []\n",
    "\n",
    "for de_line, en_line in zip(de_lines, en_lines):\n",
    "    if de_line.strip() and en_line.strip():  # 두 줄 모두 비어있지 않은 경우만 추가\n",
    "        de_cleaned.append(de_line.strip() + '\\n')\n",
    "        en_cleaned.append(en_line.strip() + '\\n')\n",
    "\n",
    "# 정리된 데이터 저장\n",
    "with open(de_clean_path, 'w', encoding='utf-8') as de_out, open(en_clean_path, 'w', encoding='utf-8') as en_out:\n",
    "    de_out.writelines(de_cleaned)\n",
    "    en_out.writelines(en_cleaned)\n",
    "\n",
    "print(f\"Cleaned DE lines: {len(de_cleaned)}\")\n",
    "print(f\"Cleaned EN lines: {len(en_cleaned)}\")"
   ]
  },
  {
   "cell_type": "code",
   "execution_count": 9,
   "id": "39539b16-a9d9-44f9-b072-5a3ffc416f0a",
   "metadata": {},
   "outputs": [],
   "source": [
    "from tokenizers import Tokenizer, models, trainers, pre_tokenizers\n"
   ]
  },
  {
   "cell_type": "code",
   "execution_count": 1,
   "id": "e1301bf4-65a8-4463-9ae1-d6eff8c33886",
   "metadata": {},
   "outputs": [],
   "source": [
    "def tokenize(tokenizer,pair,is_decoder):\n",
    "    tokens = tokenizer.encode(pair).ids\n",
    "    if is_decoder:\n",
    "        tokens = tokenizer.encode(\"<s>\").ids + tokens + tokenizer.encode(\"</s>\").ids\n",
    "    \n",
    "    return tokens"
   ]
  },
  {
   "cell_type": "code",
   "execution_count": 7,
   "id": "15f850f6-a62a-42bc-b80b-4b0759ae77e6",
   "metadata": {},
   "outputs": [],
   "source": [
    "tokenizer = Tokenizer.from_file(\"/workspace/Transformer/bpe_tokenizer2/tokenizer.json\")"
   ]
  },
  {
   "cell_type": "code",
   "execution_count": 10,
   "id": "7845d95b-0858-4d02-b825-de116f080a1a",
   "metadata": {},
   "outputs": [
    {
     "name": "stdout",
     "output_type": "stream",
     "text": [
      "[497, 580, 729, 237]\n"
     ]
    }
   ],
   "source": [
    "tokens = tokenizer.encode(\"i am apple\").ids\n",
    "print(tokens)\n",
    "print(tokenizer.decode("
   ]
  }
 ],
 "metadata": {
  "kernelspec": {
   "display_name": "Python 3 (ipykernel)",
   "language": "python",
   "name": "python3"
  },
  "language_info": {
   "codemirror_mode": {
    "name": "ipython",
    "version": 3
   },
   "file_extension": ".py",
   "mimetype": "text/x-python",
   "name": "python",
   "nbconvert_exporter": "python",
   "pygments_lexer": "ipython3",
   "version": "3.11.10"
  }
 },
 "nbformat": 4,
 "nbformat_minor": 5
}
